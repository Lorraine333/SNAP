{
 "cells": [
  {
   "cell_type": "code",
<<<<<<< HEAD
   "execution_count": 1,
=======
   "execution_count": 825,
>>>>>>> 2c870eb73ad3cc0f71b0af2db525bd57ea5d9a12
   "metadata": {
    "collapsed": false
   },
   "outputs": [],
   "source": [
    "import itertools\n",
    "import numpy as np\n",
    "import pandas as pd\n",
    "import matplotlib as mpl\n",
    "import matplotlib.pyplot as plt\n",
    "import pydotplus\n",
    "import math\n",
    "import sys\n",
    "from sets import Set\n",
    "from mpl_toolkits.mplot3d import Axes3D\n",
    "from matplotlib import cm\n",
    "import re \n",
    "from sklearn import linear_model\n",
    "from __future__ import division # ensures that default division is real number division\n",
    "#get_ipython().magic(u'matplotlib inline')\n",
    "#%matplotlib\n",
    "mpl.rc('figure', figsize=[10,6]) "
   ]
  },
  {
   "cell_type": "code",
<<<<<<< HEAD
   "execution_count": 114,
=======
   "execution_count": 827,
>>>>>>> 2c870eb73ad3cc0f71b0af2db525bd57ea5d9a12
   "metadata": {
    "collapsed": false
   },
   "outputs": [
    {
     "name": "stdout",
     "output_type": "stream",
     "text": [
<<<<<<< HEAD
=======
      "  Vertex     Type  ID Department  Gender\n",
      "0     v1  Student   1         CS    Male\n",
      "1     v2  Student   2         CS    Male\n",
      "2     v3  Student   3         CS  Female\n",
      "3     v4  Student   4      Booth    Male\n",
      "4     v5  Student   5      Booth    Male\n",
      "5     v6  Student   6      Booth  Female\n",
>>>>>>> 2c870eb73ad3cc0f71b0af2db525bd57ea5d9a12
      "  Unnamed: 0          v1          v2          v3                  v4  \\\n",
      "0         v1         NaN  Classmates  Classmates                 NaN   \n",
      "1         v2  Classmates         NaN  Classmates                 NaN   \n",
      "2         v3  Classmates  Classmates         NaN             Friends   \n",
      "3         v4         NaN         NaN     Friends                 NaN   \n",
      "4         v5         NaN         NaN     Friends  Friends&Classmates   \n",
      "5         v6     Friends         NaN         NaN  Friends&Classmates   \n",
      "\n",
      "                   v5                  v6  \n",
      "0                 NaN             Friends  \n",
      "1                 NaN                 NaN  \n",
      "2             Friends                 NaN  \n",
      "3  Friends&Classmates  Friends&Classmates  \n",
      "4                 NaN  Friends&Classmates  \n",
      "5  Friends&Classmates                 NaN  \n",
<<<<<<< HEAD
      "(6, 7)\n",
=======
>>>>>>> 2c870eb73ad3cc0f71b0af2db525bd57ea5d9a12
      "(6, 5)\n"
     ]
    }
   ],
   "source": [
    "graph = pd.read_csv('graph.csv')\n",
    "edge = pd.read_csv('relation.csv')\n",
<<<<<<< HEAD
    "print edge\n",
    "#edge = pd.read_csv('relation1.csv')\n",
    "attr = ['Department','Gender']\n",
    "#print graph\n",
    "print edge.shape\n",
=======
    "attr = ['Department','Gender']\n",
    "print graph\n",
    "print edge\n",
>>>>>>> 2c870eb73ad3cc0f71b0af2db525bd57ea5d9a12
    "print graph.shape\n",
    "relations = ['Friends','Classmates']\n"
   ]
  },
  {
   "cell_type": "code",
<<<<<<< HEAD
   "execution_count": 115,
=======
   "execution_count": 828,
>>>>>>> 2c870eb73ad3cc0f71b0af2db525bd57ea5d9a12
   "metadata": {
    "collapsed": true
   },
   "outputs": [],
   "source": [
    "def updateFlag(val,sorted_attr_row):\n",
    "    for i in range(len(sorted_attr_row)-1):\n",
    "        val[i] = sorted_attr_row[i+1]\n",
    "\n",
    "def defineT(attr):\n",
    "    dtype = [('Id',int)]\n",
    "    for i in range(len(attr)):\n",
    "        dtype.append((attr[i],'S10'))\n",
    "    return dtype"
   ]
  },
  {
   "cell_type": "code",
<<<<<<< HEAD
   "execution_count": 116,
=======
   "execution_count": 829,
>>>>>>> 2c870eb73ad3cc0f71b0af2db525bd57ea5d9a12
   "metadata": {
    "collapsed": false
   },
   "outputs": [],
   "source": [
<<<<<<< HEAD
    "def ACompatible(graph,edge,attr):\n",
=======
    "def ACompatible(graph,edge,attr,relations):\n",
>>>>>>> 2c870eb73ad3cc0f71b0af2db525bd57ea5d9a12
    "    dtype = defineT(attr)\n",
    "    value = list(graph[attr].itertuples())\n",
    "    original_table = np.asarray(value,dtype=dtype)\n",
    "    groupArr = []\n",
    "\n",
    "    sorted_attr = np.sort(original_table, order=attr)  \n",
    "    val = ['','']\n",
    "    for i in range(len(sorted_attr)):\n",
    "        for j in range(len(attr)):\n",
    "            if(sorted_attr[i][j+1]==val[j]):\n",
    "                if(j == len(attr)-1):\n",
    "                    newGroup.append(sorted_attr[i])\n",
    "            else:\n",
    "                newGroup = [(sorted_attr[i])]\n",
    "                groupArr.append(newGroup)\n",
    "                updateFlag(val,sorted_attr[i])\n",
    "                break\n",
    "    return groupArr"
   ]
  },
  {
   "cell_type": "code",
<<<<<<< HEAD
   "execution_count": 146,
=======
   "execution_count": 830,
>>>>>>> 2c870eb73ad3cc0f71b0af2db525bd57ea5d9a12
   "metadata": {
    "collapsed": false
   },
   "outputs": [],
   "source": [
    "def DataStruture(result1,edge,attr,graph):\n",
    "    groupNum = len(result1)\n",
    "    nodeNum = graph.shape[0]\n",
    "    mapsize = (nodeNum,groupNum)\n",
    "    bitMap = np.zeros(mapsize)\n",
    "    PArraySize = (groupNum,groupNum)\n",
    "    PArray = np.zeros(PArraySize)\n",
    "    edge = np.asarray(edge)\n",
    "    \n",
    "    #initialize bit map\n",
    "    for i in range(groupNum):\n",
    "        groupSet = result1[i]\n",
    "        for j in range(len(groupSet)):\n",
    "            CurrentNode = groupSet[j]\n",
    "            index = CurrentNode[0]\n",
<<<<<<< HEAD
    "            #print index\n",
=======
>>>>>>> 2c870eb73ad3cc0f71b0af2db525bd57ea5d9a12
    "            for k in range(nodeNum):\n",
    "                if(not pd.isnull(edge[k,index+1])):\n",
    "                    if(re.match(r'.*Friends.*', edge[k,index+1])):\n",
    "                        bitMap[k][i]=1\n",
<<<<<<< HEAD
    "                #print bitMap\n",
=======
>>>>>>> 2c870eb73ad3cc0f71b0af2db525bd57ea5d9a12
    "\n",
    "    #initialize participation array\n",
    "    for i in range(groupNum):\n",
    "        groupSet = result1[i]\n",
    "        temp = np.zeros(groupNum)\n",
    "        for j in range(len(groupSet)):\n",
    "            CurrentNode = groupSet[j]\n",
    "            index = CurrentNode[0]\n",
    "            for k in range(groupNum):\n",
    "                temp[k] += bitMap[index][k]\n",
    "        PArray[i] = temp\n",
    "\n",
    "    return PArray,bitMap"
   ]
  },
  {
   "cell_type": "code",
<<<<<<< HEAD
   "execution_count": 147,
=======
   "execution_count": 831,
>>>>>>> 2c870eb73ad3cc0f71b0af2db525bd57ea5d9a12
   "metadata": {
    "collapsed": false
   },
   "outputs": [],
   "source": [
    "def condition(SubGroup,PArray):\n",
    "    GroupNum = len(SubGroup);\n",
    "    for i in range(GroupNum):\n",
    "        setSize = len(SubGroup[i])\n",
    "        for j in range(GroupNum):\n",
    "            if ((PArray[i][j]!=setSize) & (PArray[i][j]!=0.0)):\n",
    "                return False,i+1\n",
    "    return True,0\n",
    "                "
   ]
  },
  {
   "cell_type": "code",
<<<<<<< HEAD
   "execution_count": 148,
=======
   "execution_count": 832,
>>>>>>> 2c870eb73ad3cc0f71b0af2db525bd57ea5d9a12
   "metadata": {
    "collapsed": false
   },
   "outputs": [],
   "source": [
    "def Split(BitMap,groupNum,TempResult,graph,attr):\n",
    "    groupNum = len(TempResult)\n",
    "    WaitingGroup = TempResult[groupNum-1]\n",
    "    tempBitMapsize = (len(WaitingGroup),groupNum)\n",
    "    tempBitMap = np.zeros(tempBitMapsize)\n",
    "    NodeIndex = []\n",
    "    subGroup1 = []\n",
    "    subGroup2 = []\n",
    "    \n",
    "    dtype = defineT(attr)\n",
    "    value = list(graph[attr].itertuples())\n",
    "    original_table = np.asarray(value,dtype=dtype)\n",
    "    \n",
    "    for i in range(len(WaitingGroup)):\n",
    "        NodeIndex.append(WaitingGroup[i][0])\n",
    "        tempBitMap[i][:] = BitMap[WaitingGroup[i][0]][:]\n",
    "\n",
    "    for k in range(groupNum):\n",
    "        temp = sorted(enumerate(tempBitMap[:,k]), key=lambda x: x[1])\n",
    "        for m in range(len(temp)-1):\n",
    "            if(temp[m][1]!=temp[m+1][1]):\n",
    "                #print \"found it\"\n",
    "                for j in range(m+1):\n",
    "                    subGroup1.append(original_table[temp[j][0]])\n",
    "                for n in range(m+1,len(temp)):\n",
    "                    subGroup2.append(original_table[temp[n][0]])\n",
    "                TempResult.remove(WaitingGroup)\n",
    "                TempResult.append(subGroup1)\n",
    "                TempResult.append(subGroup2)\n",
    "                return TempResult"
   ]
  },
  {
   "cell_type": "code",
<<<<<<< HEAD
   "execution_count": 149,
=======
   "execution_count": 833,
>>>>>>> 2c870eb73ad3cc0f71b0af2db525bd57ea5d9a12
   "metadata": {
    "collapsed": false
   },
   "outputs": [],
   "source": [
<<<<<<< HEAD
    "def SNAP(graph,edge,attr):\n",
    "    TempResult = ACompatible(graph,edge,attr)\n",
=======
    "def SNAP(graph,edge,attr,relations):\n",
    "    TempResult = ACompatible(graph,edge,attr,relations)\n",
>>>>>>> 2c870eb73ad3cc0f71b0af2db525bd57ea5d9a12
    "    PArray,BitMap = DataStruture(TempResult,edge,attr,graph)\n",
    "    cond,groupNum = condition(TempResult,PArray)\n",
    "    while(not cond):\n",
    "        TempResult = Split(BitMap,groupNum,TempResult,graph,attr)\n",
    "        PArray,BitMap = DataStruture(TempResult,edge,attr,graph)\n",
    "        cond,groupNum = condition(TempResult,PArray)\n",
    "    for i in range(len(TempResult)):\n",
    "        print TempResult[i]\n",
<<<<<<< HEAD
    "    return TempResult\n",
=======
>>>>>>> 2c870eb73ad3cc0f71b0af2db525bd57ea5d9a12
    "\n",
    "        "
   ]
  },
  {
   "cell_type": "code",
<<<<<<< HEAD
   "execution_count": 150,
   "metadata": {
    "collapsed": false
   },
   "outputs": [
    {
     "ename": "TypeError",
     "evalue": "object of type 'NoneType' has no len()",
     "output_type": "error",
     "traceback": [
      "\u001b[0;31m---------------------------------------------------------------------------\u001b[0m",
      "\u001b[0;31mTypeError\u001b[0m                                 Traceback (most recent call last)",
      "\u001b[0;32m<ipython-input-150-5ae28ab587a2>\u001b[0m in \u001b[0;36m<module>\u001b[0;34m()\u001b[0m\n\u001b[0;32m----> 1\u001b[0;31m \u001b[0mSMRnode\u001b[0m \u001b[0;34m=\u001b[0m \u001b[0mSNAP\u001b[0m\u001b[0;34m(\u001b[0m\u001b[0mgraph\u001b[0m\u001b[0;34m,\u001b[0m\u001b[0medge\u001b[0m\u001b[0;34m,\u001b[0m\u001b[0mattr\u001b[0m\u001b[0;34m)\u001b[0m\u001b[0;34m\u001b[0m\u001b[0m\n\u001b[0m",
      "\u001b[0;32m<ipython-input-149-025c8ec8b395>\u001b[0m in \u001b[0;36mSNAP\u001b[0;34m(graph, edge, attr)\u001b[0m\n\u001b[1;32m      5\u001b[0m     \u001b[0;32mwhile\u001b[0m\u001b[0;34m(\u001b[0m\u001b[0;32mnot\u001b[0m \u001b[0mcond\u001b[0m\u001b[0;34m)\u001b[0m\u001b[0;34m:\u001b[0m\u001b[0;34m\u001b[0m\u001b[0m\n\u001b[1;32m      6\u001b[0m         \u001b[0mTempResult\u001b[0m \u001b[0;34m=\u001b[0m \u001b[0mSplit\u001b[0m\u001b[0;34m(\u001b[0m\u001b[0mBitMap\u001b[0m\u001b[0;34m,\u001b[0m\u001b[0mgroupNum\u001b[0m\u001b[0;34m,\u001b[0m\u001b[0mTempResult\u001b[0m\u001b[0;34m,\u001b[0m\u001b[0mgraph\u001b[0m\u001b[0;34m,\u001b[0m\u001b[0mattr\u001b[0m\u001b[0;34m)\u001b[0m\u001b[0;34m\u001b[0m\u001b[0m\n\u001b[0;32m----> 7\u001b[0;31m         \u001b[0mPArray\u001b[0m\u001b[0;34m,\u001b[0m\u001b[0mBitMap\u001b[0m \u001b[0;34m=\u001b[0m \u001b[0mDataStruture\u001b[0m\u001b[0;34m(\u001b[0m\u001b[0mTempResult\u001b[0m\u001b[0;34m,\u001b[0m\u001b[0medge\u001b[0m\u001b[0;34m,\u001b[0m\u001b[0mattr\u001b[0m\u001b[0;34m,\u001b[0m\u001b[0mgraph\u001b[0m\u001b[0;34m)\u001b[0m\u001b[0;34m\u001b[0m\u001b[0m\n\u001b[0m\u001b[1;32m      8\u001b[0m         \u001b[0mcond\u001b[0m\u001b[0;34m,\u001b[0m\u001b[0mgroupNum\u001b[0m \u001b[0;34m=\u001b[0m \u001b[0mcondition\u001b[0m\u001b[0;34m(\u001b[0m\u001b[0mTempResult\u001b[0m\u001b[0;34m,\u001b[0m\u001b[0mPArray\u001b[0m\u001b[0;34m)\u001b[0m\u001b[0;34m\u001b[0m\u001b[0m\n\u001b[1;32m      9\u001b[0m     \u001b[0;32mfor\u001b[0m \u001b[0mi\u001b[0m \u001b[0;32min\u001b[0m \u001b[0mrange\u001b[0m\u001b[0;34m(\u001b[0m\u001b[0mlen\u001b[0m\u001b[0;34m(\u001b[0m\u001b[0mTempResult\u001b[0m\u001b[0;34m)\u001b[0m\u001b[0;34m)\u001b[0m\u001b[0;34m:\u001b[0m\u001b[0;34m\u001b[0m\u001b[0m\n",
      "\u001b[0;32m<ipython-input-146-1317c1274e61>\u001b[0m in \u001b[0;36mDataStruture\u001b[0;34m(result1, edge, attr, graph)\u001b[0m\n\u001b[1;32m      1\u001b[0m \u001b[0;32mdef\u001b[0m \u001b[0mDataStruture\u001b[0m\u001b[0;34m(\u001b[0m\u001b[0mresult1\u001b[0m\u001b[0;34m,\u001b[0m\u001b[0medge\u001b[0m\u001b[0;34m,\u001b[0m\u001b[0mattr\u001b[0m\u001b[0;34m,\u001b[0m\u001b[0mgraph\u001b[0m\u001b[0;34m)\u001b[0m\u001b[0;34m:\u001b[0m\u001b[0;34m\u001b[0m\u001b[0m\n\u001b[0;32m----> 2\u001b[0;31m     \u001b[0mgroupNum\u001b[0m \u001b[0;34m=\u001b[0m \u001b[0mlen\u001b[0m\u001b[0;34m(\u001b[0m\u001b[0mresult1\u001b[0m\u001b[0;34m)\u001b[0m\u001b[0;34m\u001b[0m\u001b[0m\n\u001b[0m\u001b[1;32m      3\u001b[0m     \u001b[0mnodeNum\u001b[0m \u001b[0;34m=\u001b[0m \u001b[0mgraph\u001b[0m\u001b[0;34m.\u001b[0m\u001b[0mshape\u001b[0m\u001b[0;34m[\u001b[0m\u001b[0;36m0\u001b[0m\u001b[0;34m]\u001b[0m\u001b[0;34m\u001b[0m\u001b[0m\n\u001b[1;32m      4\u001b[0m     \u001b[0mmapsize\u001b[0m \u001b[0;34m=\u001b[0m \u001b[0;34m(\u001b[0m\u001b[0mnodeNum\u001b[0m\u001b[0;34m,\u001b[0m\u001b[0mgroupNum\u001b[0m\u001b[0;34m)\u001b[0m\u001b[0;34m\u001b[0m\u001b[0m\n\u001b[1;32m      5\u001b[0m     \u001b[0mbitMap\u001b[0m \u001b[0;34m=\u001b[0m \u001b[0mnp\u001b[0m\u001b[0;34m.\u001b[0m\u001b[0mzeros\u001b[0m\u001b[0;34m(\u001b[0m\u001b[0mmapsize\u001b[0m\u001b[0;34m)\u001b[0m\u001b[0;34m\u001b[0m\u001b[0m\n",
      "\u001b[0;31mTypeError\u001b[0m: object of type 'NoneType' has no len()"
     ]
    }
   ],
   "source": [
    "SMRnode = SNAP(graph,edge,attr)"
   ]
  },
  {
   "cell_type": "code",
   "execution_count": 130,
=======
   "execution_count": 834,
>>>>>>> 2c870eb73ad3cc0f71b0af2db525bd57ea5d9a12
   "metadata": {
    "collapsed": false
   },
   "outputs": [
    {
     "name": "stdout",
     "output_type": "stream",
     "text": [
<<<<<<< HEAD
      "[[ 1.  0.  0.  0.]\n",
      " [ 0.  0.  0.  0.]\n",
      " [ 0.  1.  0.  0.]\n",
      " [ 1.  1.  0.  0.]\n",
      " [ 1.  0.  0.  0.]\n",
      " [ 0.  0.  0.  0.]]\n",
      "[[ 1.  0.  0.  0.  0.]\n",
      " [ 0.  0.  0.  0.  0.]\n",
      " [ 0.  1.  0.  0.  0.]\n",
      " [ 1.  1.  0.  0.  0.]\n",
      " [ 1.  0.  0.  0.  0.]\n",
      " [ 0.  0.  0.  0.  0.]]\n"
     ]
    },
    {
     "ename": "TypeError",
     "evalue": "object of type 'NoneType' has no len()",
     "output_type": "error",
     "traceback": [
      "\u001b[0;31m---------------------------------------------------------------------------\u001b[0m",
      "\u001b[0;31mTypeError\u001b[0m                                 Traceback (most recent call last)",
      "\u001b[0;32m<ipython-input-130-229f7c1e5afb>\u001b[0m in \u001b[0;36m<module>\u001b[0;34m()\u001b[0m\n\u001b[1;32m      2\u001b[0m \u001b[0;31m#SMRnode = SNAP(graph,edge,attr,relations)\u001b[0m\u001b[0;34m\u001b[0m\u001b[0;34m\u001b[0m\u001b[0m\n\u001b[1;32m      3\u001b[0m \u001b[0medge\u001b[0m \u001b[0;34m=\u001b[0m \u001b[0mpd\u001b[0m\u001b[0;34m.\u001b[0m\u001b[0mread_csv\u001b[0m\u001b[0;34m(\u001b[0m\u001b[0;34m'relation2.csv'\u001b[0m\u001b[0;34m)\u001b[0m\u001b[0;34m\u001b[0m\u001b[0m\n\u001b[0;32m----> 4\u001b[0;31m \u001b[0mSMRnode\u001b[0m \u001b[0;34m=\u001b[0m \u001b[0mSNAP\u001b[0m\u001b[0;34m(\u001b[0m\u001b[0mgraph\u001b[0m\u001b[0;34m,\u001b[0m\u001b[0medge\u001b[0m\u001b[0;34m,\u001b[0m\u001b[0mattr\u001b[0m\u001b[0;34m)\u001b[0m\u001b[0;34m\u001b[0m\u001b[0m\n\u001b[0m\u001b[1;32m      5\u001b[0m \u001b[0;34m\u001b[0m\u001b[0m\n\u001b[1;32m      6\u001b[0m \u001b[0mRLTSize\u001b[0m \u001b[0;34m=\u001b[0m \u001b[0;34m(\u001b[0m\u001b[0mlen\u001b[0m\u001b[0;34m(\u001b[0m\u001b[0mSMRnode\u001b[0m\u001b[0;34m)\u001b[0m\u001b[0;34m,\u001b[0m\u001b[0mlen\u001b[0m\u001b[0;34m(\u001b[0m\u001b[0mSMRnode\u001b[0m\u001b[0;34m)\u001b[0m\u001b[0;34m)\u001b[0m\u001b[0;34m\u001b[0m\u001b[0m\n",
      "\u001b[0;32m<ipython-input-126-025c8ec8b395>\u001b[0m in \u001b[0;36mSNAP\u001b[0;34m(graph, edge, attr)\u001b[0m\n\u001b[1;32m      5\u001b[0m     \u001b[0;32mwhile\u001b[0m\u001b[0;34m(\u001b[0m\u001b[0;32mnot\u001b[0m \u001b[0mcond\u001b[0m\u001b[0;34m)\u001b[0m\u001b[0;34m:\u001b[0m\u001b[0;34m\u001b[0m\u001b[0m\n\u001b[1;32m      6\u001b[0m         \u001b[0mTempResult\u001b[0m \u001b[0;34m=\u001b[0m \u001b[0mSplit\u001b[0m\u001b[0;34m(\u001b[0m\u001b[0mBitMap\u001b[0m\u001b[0;34m,\u001b[0m\u001b[0mgroupNum\u001b[0m\u001b[0;34m,\u001b[0m\u001b[0mTempResult\u001b[0m\u001b[0;34m,\u001b[0m\u001b[0mgraph\u001b[0m\u001b[0;34m,\u001b[0m\u001b[0mattr\u001b[0m\u001b[0;34m)\u001b[0m\u001b[0;34m\u001b[0m\u001b[0m\n\u001b[0;32m----> 7\u001b[0;31m         \u001b[0mPArray\u001b[0m\u001b[0;34m,\u001b[0m\u001b[0mBitMap\u001b[0m \u001b[0;34m=\u001b[0m \u001b[0mDataStruture\u001b[0m\u001b[0;34m(\u001b[0m\u001b[0mTempResult\u001b[0m\u001b[0;34m,\u001b[0m\u001b[0medge\u001b[0m\u001b[0;34m,\u001b[0m\u001b[0mattr\u001b[0m\u001b[0;34m,\u001b[0m\u001b[0mgraph\u001b[0m\u001b[0;34m)\u001b[0m\u001b[0;34m\u001b[0m\u001b[0m\n\u001b[0m\u001b[1;32m      8\u001b[0m         \u001b[0mcond\u001b[0m\u001b[0;34m,\u001b[0m\u001b[0mgroupNum\u001b[0m \u001b[0;34m=\u001b[0m \u001b[0mcondition\u001b[0m\u001b[0;34m(\u001b[0m\u001b[0mTempResult\u001b[0m\u001b[0;34m,\u001b[0m\u001b[0mPArray\u001b[0m\u001b[0;34m)\u001b[0m\u001b[0;34m\u001b[0m\u001b[0m\n\u001b[1;32m      9\u001b[0m     \u001b[0;32mfor\u001b[0m \u001b[0mi\u001b[0m \u001b[0;32min\u001b[0m \u001b[0mrange\u001b[0m\u001b[0;34m(\u001b[0m\u001b[0mlen\u001b[0m\u001b[0;34m(\u001b[0m\u001b[0mTempResult\u001b[0m\u001b[0;34m)\u001b[0m\u001b[0;34m)\u001b[0m\u001b[0;34m:\u001b[0m\u001b[0;34m\u001b[0m\u001b[0m\n",
      "\u001b[0;32m<ipython-input-123-00fbe2464cf9>\u001b[0m in \u001b[0;36mDataStruture\u001b[0;34m(result1, edge, attr, graph)\u001b[0m\n\u001b[1;32m      1\u001b[0m \u001b[0;32mdef\u001b[0m \u001b[0mDataStruture\u001b[0m\u001b[0;34m(\u001b[0m\u001b[0mresult1\u001b[0m\u001b[0;34m,\u001b[0m\u001b[0medge\u001b[0m\u001b[0;34m,\u001b[0m\u001b[0mattr\u001b[0m\u001b[0;34m,\u001b[0m\u001b[0mgraph\u001b[0m\u001b[0;34m)\u001b[0m\u001b[0;34m:\u001b[0m\u001b[0;34m\u001b[0m\u001b[0m\n\u001b[0;32m----> 2\u001b[0;31m     \u001b[0mgroupNum\u001b[0m \u001b[0;34m=\u001b[0m \u001b[0mlen\u001b[0m\u001b[0;34m(\u001b[0m\u001b[0mresult1\u001b[0m\u001b[0;34m)\u001b[0m\u001b[0;34m\u001b[0m\u001b[0m\n\u001b[0m\u001b[1;32m      3\u001b[0m     \u001b[0mnodeNum\u001b[0m \u001b[0;34m=\u001b[0m \u001b[0mgraph\u001b[0m\u001b[0;34m.\u001b[0m\u001b[0mshape\u001b[0m\u001b[0;34m[\u001b[0m\u001b[0;36m0\u001b[0m\u001b[0;34m]\u001b[0m\u001b[0;34m\u001b[0m\u001b[0m\n\u001b[1;32m      4\u001b[0m     \u001b[0mmapsize\u001b[0m \u001b[0;34m=\u001b[0m \u001b[0;34m(\u001b[0m\u001b[0mnodeNum\u001b[0m\u001b[0;34m,\u001b[0m\u001b[0mgroupNum\u001b[0m\u001b[0;34m)\u001b[0m\u001b[0;34m\u001b[0m\u001b[0m\n\u001b[1;32m      5\u001b[0m     \u001b[0mbitMap\u001b[0m \u001b[0;34m=\u001b[0m \u001b[0mnp\u001b[0m\u001b[0;34m.\u001b[0m\u001b[0mzeros\u001b[0m\u001b[0;34m(\u001b[0m\u001b[0mmapsize\u001b[0m\u001b[0;34m)\u001b[0m\u001b[0;34m\u001b[0m\u001b[0m\n",
      "\u001b[0;31mTypeError\u001b[0m: object of type 'NoneType' has no len()"
=======
      "[(5, 'Booth', 'Female')]\n",
      "[(3, 'Booth', 'Male'), (4, 'Booth', 'Male')]\n",
      "[(2, 'CS', 'Female')]\n",
      "[(1, 'CS', 'Male')]\n",
      "[(0, 'CS', 'Male')]\n"
>>>>>>> 2c870eb73ad3cc0f71b0af2db525bd57ea5d9a12
     ]
    }
   ],
   "source": [
<<<<<<< HEAD
    "#edge = pd.read_csv('relation1.csv')\n",
    "#SMRnode = SNAP(graph,edge,attr,relations)\n",
    "edge = pd.read_csv('relation2.csv')\n",
    "SMRnode = SNAP(graph,edge,attr)\n",
    "\n",
    "RLTSize = (len(SMRnode),len(SMRnode))\n",
    "SMRedge = np.zeros(RLTSize)\n",
    "for i in range(len(SMRnode)):\n",
    "    print \"new group\"\n",
    "    for j in range(len(SMRnode[i])):\n",
    "        print SMRnode[i][j][0]\n"
   ]
  },
  {
   "cell_type": "code",
   "execution_count": null,
   "metadata": {
    "collapsed": true
   },
   "outputs": [],
   "source": []
  },
  {
   "cell_type": "code",
   "execution_count": null,
   "metadata": {
    "collapsed": true
   },
   "outputs": [],
   "source": []
=======
    "SNAP(graph,edge,attr,relations)"
   ]
>>>>>>> 2c870eb73ad3cc0f71b0af2db525bd57ea5d9a12
  }
 ],
 "metadata": {
  "kernelspec": {
   "display_name": "Python 2",
   "language": "python",
   "name": "python2"
  },
  "language_info": {
   "codemirror_mode": {
    "name": "ipython",
    "version": 2
   },
   "file_extension": ".py",
   "mimetype": "text/x-python",
   "name": "python",
   "nbconvert_exporter": "python",
   "pygments_lexer": "ipython2",
   "version": "2.7.6"
  }
 },
 "nbformat": 4,
 "nbformat_minor": 0
}
