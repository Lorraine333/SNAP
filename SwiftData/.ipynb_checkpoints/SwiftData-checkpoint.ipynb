{
 "cells": [
  {
   "cell_type": "code",
   "execution_count": 179,
   "metadata": {
    "collapsed": true
   },
   "outputs": [],
   "source": [
    "import itertools\n",
    "import numpy as np\n",
    "import pandas as pd\n",
    "import matplotlib as mpl\n",
    "import matplotlib.pyplot as plt\n",
    "import pydotplus\n",
    "import math\n",
    "import sys\n",
    "from sets import Set\n",
    "from mpl_toolkits.mplot3d import Axes3D\n",
    "from matplotlib import cm\n",
    "import re \n",
    "from graphviz import Digraph\n",
    "from sklearn import linear_model\n",
    "from __future__ import division # ensures that default division is real number division\n",
    "#get_ipython().magic(u'matplotlib inline')\n",
    "#%matplotlib\n",
    "mpl.rc('figure', figsize=[10,6]) "
   ]
  },
  {
   "cell_type": "code",
   "execution_count": 180,
   "metadata": {
    "collapsed": false
   },
   "outputs": [
    {
     "name": "stdout",
     "output_type": "stream",
     "text": [
      "                                         file_id              host     name  \\\n",
      "0  quaternion.local:testeDB:3472386:1418414895.0  quaternion.local  testeDB   \n",
      "1   quaternion.local:frag002:431845:1425321312.0  quaternion.local  frag002   \n",
      "2   quaternion.local:frag003:432596:1425321312.0  quaternion.local  frag003   \n",
      "3   quaternion.local:frag001:454231:1425321312.0  quaternion.local  frag001   \n",
      "4   quaternion.local:frag007:429381:1425321312.0  quaternion.local  frag007   \n",
      "\n",
      "      size      modify  \n",
      "0  3472386  1418414895  \n",
      "1   431845  1425321312  \n",
      "2   432596  1425321312  \n",
      "3   454231  1425321312  \n",
      "4   429381  1425321312  \n"
     ]
    }
   ],
   "source": [
    "#app = pd.read_csv('app_exec.csv')\n",
    "#app_file = pd.read_csv('file.csv')\n",
    "#edge1 = pd.read_csv('staged_in.csv')\n",
    "#edge2 = pd.read_csv('staged_out.csv')\n",
    "\n",
    "app = pd.read_csv('Larger/app_exec.csv')\n",
    "app_file = pd.read_csv('Larger/file.csv')\n",
    "edge1 = pd.read_csv('Larger/staged_in.csv')\n",
    "edge2 = pd.read_csv('Larger/staged_out.csv')\n",
    "print app_file.head()"
   ]
  },
  {
   "cell_type": "code",
   "execution_count": 181,
   "metadata": {
    "collapsed": false
   },
   "outputs": [],
   "source": [
    "app['index'] = app.index\n",
    "app_file['index'] = app_file.index\n",
    "#print app[app['app_exec_id']=='blast--280500412:fastasplitn-1nqfnc5m'].index.values[0]"
   ]
  },
  {
   "cell_type": "code",
   "execution_count": 182,
   "metadata": {
    "collapsed": false
   },
   "outputs": [],
   "source": [
    "dot = Digraph(comment='graph1')\n",
    "\n",
    "edge1 = np.asarray(edge1)\n",
    "edge2 = np.asarray(edge2)\n",
    "\n",
    "for i in range(len(app)):\n",
    "    dot.node(str(i),str(i))\n",
    "for j in range(len(app_file)):\n",
    "    dot.node(str(j+len(app)),\"File\"+str(j+len(app)))\n",
    "for m in range(len(edge1)):\n",
    "    #print app_file[app_file['file_id']==str(edge1[m][1])].index.values[0]\n",
    "    dot.edge(str(app_file[app_file['file_id']==str(edge1[m][1])].index.values[0]+len(app)),str(app[app['app_exec_id']==str(edge1[m][0])].index.values[0]))\n",
    "for n in range(len(edge2)):\n",
    "    dot.edge(str(app[app['app_exec_id']==str(edge2[n][0])].index.values[0]),str(app_file[app_file['file_id']==str(edge2[n][1])].index.values[0]+len(app)))"
   ]
  },
  {
   "cell_type": "code",
   "execution_count": 183,
   "metadata": {
    "collapsed": false
   },
   "outputs": [
    {
     "data": {
      "text/plain": [
       "'OutputLarger/graph1.pdf'"
      ]
     },
     "execution_count": 183,
     "metadata": {},
     "output_type": "execute_result"
    }
   ],
   "source": [
    "dot.render('OutputLarger/graph1') "
   ]
  },
  {
   "cell_type": "code",
   "execution_count": 184,
   "metadata": {
    "collapsed": true
   },
   "outputs": [],
   "source": [
    "def updateFlag(val,sorted_attr_row):\n",
    "    for i in range(len(sorted_attr_row)-1):\n",
    "        val[i] = sorted_attr_row[i+1]\n",
    "\n",
    "def defineT(attr):\n",
    "    dtype = [('Id',int)]\n",
    "    for i in range(len(attr)):\n",
    "        dtype.append((attr[i],'S10'))\n",
    "    return dtype"
   ]
  },
  {
   "cell_type": "code",
   "execution_count": 185,
   "metadata": {
    "collapsed": true
   },
   "outputs": [],
   "source": [
    "def ACompatible(graph,edge,attr):\n",
    "    dtype = defineT(attr)\n",
    "    value = list(graph[attr].itertuples())\n",
    "    original_table = np.asarray(value,dtype=dtype)\n",
    "    groupArr = []\n",
    "\n",
    "    sorted_attr = np.sort(original_table, order=attr)  \n",
    "    val = ['','']\n",
    "    for i in range(len(sorted_attr)):\n",
    "        for j in range(len(attr)):\n",
    "            if(sorted_attr[i][j+1]==val[j]):\n",
    "                if(j == len(attr)-1):\n",
    "                    newGroup.append(sorted_attr[i])\n",
    "            else:\n",
    "                newGroup = [(sorted_attr[i])]\n",
    "                groupArr.append(newGroup)\n",
    "                updateFlag(val,sorted_attr[i])\n",
    "                break\n",
    "    return groupArr"
   ]
  },
  {
   "cell_type": "code",
   "execution_count": 186,
   "metadata": {
    "collapsed": true
   },
   "outputs": [],
   "source": [
    "def DataStruture(result1,edge,attr,graph):\n",
    "    print \"update data structure\"\n",
    "    print \"groupnumber\",len(result1)\n",
    "    groupNum = len(result1)\n",
    "    nodeNum = graph.shape[0]\n",
    "    mapsize = (nodeNum,groupNum)\n",
    "    bitMap = np.zeros(mapsize)\n",
    "    PArraySize = (groupNum,groupNum)\n",
    "    PArray = np.zeros(PArraySize)\n",
    "    edge = np.asarray(edge)\n",
    "    \n",
    "    #initialize bit map\n",
    "    for i in range(groupNum):\n",
    "        groupSet = result1[i]\n",
    "        for j in range(len(groupSet)):\n",
    "            CurrentNode = groupSet[j]\n",
    "            #print CurrentNode\n",
    "            index = CurrentNode[0]\n",
    "            for m in range(groupNum):\n",
    "                if(m!=i):\n",
    "                    groupSet1 = result1[m]\n",
    "                    for n in range(len(groupSet1)):\n",
    "                        CurrentNode2 = groupSet1[n]\n",
    "                        #print CurrentNode\n",
    "                        index2 = CurrentNode2[0]\n",
    "                        if(not pd.isnull(edge[index2,index+1])):\n",
    "                            if(edge[index2,index+1]==1):\n",
    "                                bitMap[index][m]=1\n",
    "            \n",
    "\n",
    "    #print \"bitmap length\",len(bitMap)\n",
    "    #print bitMap[117],bitMap[125]\n",
    "\n",
    "    #initialize participation array\n",
    "    for i in range(groupNum):\n",
    "        groupSet = result1[i]\n",
    "        temp = np.zeros(groupNum)\n",
    "        for j in range(len(groupSet)):\n",
    "            CurrentNode = groupSet[j]\n",
    "            index = CurrentNode[0]\n",
    "            for k in range(groupNum):\n",
    "                temp[k] += bitMap[index][k]\n",
    "        PArray[i] = temp\n",
    "\n",
    "    #print \"parray\"\n",
    "    #print PArray\n",
    "    return PArray,bitMap"
   ]
  },
  {
   "cell_type": "code",
   "execution_count": 187,
   "metadata": {
    "collapsed": true
   },
   "outputs": [],
   "source": [
    "def condition(SubGroup,PArray):\n",
    "    GroupNum = len(SubGroup);\n",
    "    for i in range(GroupNum):\n",
    "        setSize = len(SubGroup[i])\n",
    "        for j in range(GroupNum):\n",
    "            if ((PArray[i][j]!=setSize) & (PArray[i][j]!=0.0)):\n",
    "                return False,i+1\n",
    "    return True,0"
   ]
  },
  {
   "cell_type": "code",
   "execution_count": 188,
   "metadata": {
    "collapsed": true
   },
   "outputs": [],
   "source": [
    "def Split(BitMap,fixedGNum,TempResult,graph,attr):\n",
    "    groupNum = len(TempResult)\n",
    "    WaitingGroup = TempResult[fixedGNum-1]\n",
    "    #print \"waitinggroup\"\n",
    "    #print WaitingGroup\n",
    "    tempBitMapsize = (len(WaitingGroup),groupNum)\n",
    "    tempBitMap = np.zeros(tempBitMapsize)\n",
    "    NodeIndex = []\n",
    "    subGroup1 = []\n",
    "    subGroup2 = []\n",
    "    \n",
    "    dtype = defineT(attr)\n",
    "    value = list(graph[attr].itertuples())\n",
    "    original_table = np.asarray(value,dtype=dtype)\n",
    "    #print original_table\n",
    "    \n",
    "    for i in range(len(WaitingGroup)):\n",
    "        NodeIndex.append(WaitingGroup[i][0])\n",
    "        tempBitMap[i][:] = BitMap[WaitingGroup[i][0]][:]\n",
    "    #print \"nodeindex\"\n",
    "    #print NodeIndex\n",
    "    #print \"temp bit map\"\n",
    "    #print tempBitMap\n",
    "    #print \"node number\",len(np.asarray(NodeIndex))\n",
    "    #print \"bit size\",len(tempBitMap)\n",
    "    table = np.concatenate((np.asarray(NodeIndex).reshape(len(np.asarray(NodeIndex)),1),tempBitMap),axis=1)\n",
    "\n",
    "    typename = []\n",
    "    for i in range(groupNum):\n",
    "        typename.append(\"attr\"+str(i))\n",
    "    \n",
    "    dtype = [('Id',int)]\n",
    "    for i in range(groupNum):\n",
    "        dtype.append((typename[i],float))\n",
    "    #print dtype\n",
    "\n",
    "    #print table\n",
    "    value = []\n",
    "    for i in range(len(NodeIndex)):\n",
    "        value.append(tuple(table[i].tolist()))\n",
    "\n",
    "    waitingSortTable = np.asarray(value,dtype=dtype)\n",
    "    #print table\n",
    "    \n",
    "    for k in range(groupNum):\n",
    "        temp = np.sort(waitingSortTable, order=[typename[k],'Id']) \n",
    "        #print \"temp sort attribute\"\n",
    "        #print temp\n",
    "        for m in range(len(temp)-1):\n",
    "            if(temp[m][k+1]!=temp[m+1][k+1]):\n",
    "                #print \"found it\"\n",
    "                #print m\n",
    "                for j in range(m+1):\n",
    "                    subGroup1.append(original_table[temp[j][0]])\n",
    "                for n in range(m+1,len(temp)):\n",
    "                    subGroup2.append(original_table[temp[n][0]])\n",
    "                #print \"group1\"\n",
    "                #print subGroup1\n",
    "                #print \"group2\"\n",
    "                #print subGroup2\n",
    "                #print TempResult\n",
    "                TempResult.remove(WaitingGroup)\n",
    "                TempResult.append(subGroup1)\n",
    "                TempResult.append(subGroup2)\n",
    "                #print \"result\",TempResult\n",
    "                return TempResult\n",
    "    return none\n",
    "        "
   ]
  },
  {
   "cell_type": "code",
   "execution_count": 189,
   "metadata": {
    "collapsed": true
   },
   "outputs": [],
   "source": [
    "def SNAP(graph,edge,attr):\n",
    "    TempResult = ACompatible(graph,edge,attr)\n",
    "    PArray,BitMap = DataStruture(TempResult,edge,attr,graph)\n",
    "    #for i in range(len(TempResult)):\n",
    "    #    print \"another group\"\n",
    "    #    print TempResult[i]\n",
    "    cond,groupNum = condition(TempResult,PArray)\n",
    "    while(not cond):\n",
    "    #for j in range(5):\n",
    "        TempResult = Split(BitMap,groupNum,TempResult,graph,attr)\n",
    "        PArray,BitMap = DataStruture(TempResult,edge,attr,graph)\n",
    "        cond,groupNum = condition(TempResult,PArray)\n",
    "    for i in range(len(TempResult)):\n",
    "        print \"another group\"\n",
    "        print TempResult[i]\n",
    "    print PArray\n",
    "    return TempResult,PArray"
   ]
  },
  {
   "cell_type": "code",
   "execution_count": 190,
   "metadata": {
    "collapsed": false
   },
   "outputs": [
    {
     "name": "stdout",
     "output_type": "stream",
     "text": [
      "138\n",
      "172\n",
      "0\n",
      "1\n",
      "[[  1.   0.   0. ...,   0.   0.   0.]\n",
      " [  2.   0.   0. ...,   0.   0.   0.]\n",
      " [  3.   0.   0. ...,   0.   0.   0.]\n",
      " ..., \n",
      " [  8.   0.   0. ...,   0.   0.   0.]\n",
      " [  9.   0.   0. ...,   0.   0.   0.]\n",
      " [ 10.   0.   0. ...,   0.   0.   0.]]\n"
     ]
    }
   ],
   "source": [
    "attr = ['type']\n",
    "#vertex = pd.read_csv('vertex.csv')\n",
    "#edge = pd.read_csv('edge.csv')\n",
    "\n",
    "vertex = pd.read_csv('Larger/vertex.csv')\n",
    "edge = pd.read_csv('Larger/edge.csv')\n",
    "vertex['index'] = vertex.index\n",
    "\n",
    "#make the type attribute\n",
    "#apptype = []\n",
    "#for i in range(len(app['app_exec_id'])):\n",
    "#    apptype.append('App')\n",
    "#app_file_type = []\n",
    "#for j in range(len(app_file['file_id'])):\n",
    "#    app_file_type.append('File')\n",
    "    \n",
    "#app['type'] = pd.Series(apptype, index=app.index)\n",
    "#app_file['type'] = pd.Series(app_file_type, index=app_file.index)\n",
    "\n",
    "#make the adjencent matrix\n",
    "NodeNum = len(vertex)\n",
    "EdgeNum = len(edge)\n",
    "print NodeNum\n",
    "print EdgeNum\n",
    "vertex = np.asarray(vertex)\n",
    "edge = np.asarray(edge)\n",
    "Size = (NodeNum,NodeNum+1)\n",
    "AdjMatrix = np.zeros(Size)\n",
    "\n",
    "for k in range(NodeNum):\n",
    "    AdjMatrix[k][0] = k+1\n",
    "\n",
    "print vertex[0][15]\n",
    "print vertex[1][15]\n",
    "for i in range(len(edge)):\n",
    "#for i in range(5):\n",
    "    if(edge[i][2]==1):\n",
    "        #print 'out'\n",
    "        for j in range(len(vertex)):\n",
    "            if (vertex[j][0] == edge[i][0]):      \n",
    "                startV = vertex[j][15]\n",
    "                #print \"start\"\n",
    "                #print startV\n",
    "            if(vertex[j][9] == edge[i][1]):\n",
    "                #print \"end\"\n",
    "                endV = vertex[j][15]\n",
    "                #print endV\n",
    "    else:\n",
    "        #print 'in'\n",
    "        for j in range(len(vertex)):\n",
    "            if (vertex[j][9] == edge[i][1]):      \n",
    "                startV = vertex[j][15]\n",
    "                #print \"start\"\n",
    "                #print startV\n",
    "            if(vertex[j][0] == edge[i][0]):\n",
    "                #print \"end\"\n",
    "                endV = vertex[j][15]\n",
    "                #print endV\n",
    "    AdjMatrix[endV][startV+1] = 1\n",
    "#print AdjMatrix\n",
    "print AdjMatrix[:10,:]\n"
   ]
  },
  {
   "cell_type": "code",
   "execution_count": 191,
   "metadata": {
    "collapsed": false
   },
   "outputs": [
    {
     "name": "stdout",
     "output_type": "stream",
     "text": [
      "update data structure\n",
      "groupnumber 3\n",
      "update data structure\n",
      "groupnumber 4\n",
      "update data structure\n",
      "groupnumber 5\n",
      "update data structure\n",
      "groupnumber 6\n",
      "update data structure\n",
      "groupnumber 7\n",
      "update data structure\n",
      "groupnumber 8\n",
      "update data structure\n",
      "groupnumber 9\n",
      "update data structure\n",
      "groupnumber 10\n",
      "another group\n",
      "[(127, 'nan'), (128, 'nan'), (129, 'nan'), (130, 'nan'), (131, 'nan'), (132, 'nan'), (133, 'nan'), (134, 'nan'), (135, 'nan'), (136, 'nan'), (137, 'nan')]\n",
      "another group\n",
      "[(82, 'File'), (95, 'File'), (96, 'File'), (97, 'File'), (98, 'File'), (99, 'File'), (100, 'File'), (101, 'File'), (102, 'File'), (103, 'File'), (104, 'File'), (105, 'File'), (106, 'File'), (107, 'File'), (108, 'File'), (109, 'File'), (110, 'File'), (111, 'File'), (112, 'File'), (113, 'File'), (114, 'File'), (125, 'File'), (126, 'File')]\n",
      "another group\n",
      "[(17, 'App'), (29, 'App'), (30, 'App'), (31, 'App'), (32, 'App'), (33, 'App'), (34, 'App'), (35, 'App'), (36, 'App'), (37, 'App'), (38, 'App'), (39, 'App')]\n",
      "another group\n",
      "[(74, 'File'), (75, 'File'), (76, 'File'), (77, 'File'), (78, 'File'), (79, 'File'), (80, 'File'), (81, 'File'), (84, 'File'), (85, 'File'), (86, 'File'), (87, 'File'), (88, 'File'), (89, 'File'), (90, 'File'), (91, 'File'), (92, 'File'), (93, 'File'), (94, 'File'), (115, 'File'), (116, 'File'), (117, 'File'), (118, 'File'), (119, 'File'), (120, 'File'), (121, 'File'), (122, 'File'), (123, 'File'), (124, 'File')]\n",
      "another group\n",
      "[(9, 'App'), (10, 'App'), (11, 'App'), (12, 'App'), (13, 'App'), (14, 'App'), (15, 'App'), (16, 'App'), (18, 'App'), (19, 'App'), (20, 'App'), (21, 'App'), (22, 'App'), (23, 'App'), (24, 'App'), (25, 'App'), (26, 'App'), (27, 'App'), (28, 'App')]\n",
      "another group\n",
      "[(49, 'File'), (50, 'File'), (51, 'File'), (52, 'File'), (53, 'File'), (54, 'File'), (55, 'File'), (56, 'File'), (57, 'File'), (58, 'File'), (59, 'File'), (60, 'File'), (61, 'File'), (62, 'File'), (63, 'File'), (64, 'File'), (65, 'File'), (66, 'File'), (67, 'File'), (68, 'File'), (69, 'File'), (70, 'File'), (71, 'File'), (72, 'File'), (73, 'File'), (83, 'File')]\n",
      "another group\n",
      "[(0, 'App')]\n",
      "another group\n",
      "[(1, 'App'), (2, 'App'), (3, 'App'), (4, 'App'), (5, 'App'), (6, 'App'), (7, 'App'), (8, 'App')]\n",
      "another group\n",
      "[(40, 'File')]\n",
      "another group\n",
      "[(41, 'File'), (42, 'File'), (43, 'File'), (44, 'File'), (45, 'File'), (46, 'File'), (47, 'File'), (48, 'File')]\n",
      "[[  0.   0.   0.   0.   0.   0.   0.   0.   0.   0.]\n",
      " [  0.   0.   0.   0.   0.   0.   0.   0.   0.   0.]\n",
      " [  0.  12.   0.   0.   0.   0.   0.   0.   0.   0.]\n",
      " [  0.   0.  29.   0.   0.   0.   0.   0.   0.   0.]\n",
      " [  0.   0.   0.  19.   0.   0.   0.   0.   0.   0.]\n",
      " [  0.   0.   0.   0.  26.   0.   0.   0.   0.   0.]\n",
      " [  0.   0.   0.   0.   0.   0.   0.   0.   0.   1.]\n",
      " [  0.   0.   0.   0.   0.   8.   0.   0.   0.   0.]\n",
      " [  0.   0.   0.   0.   0.   0.   1.   0.   0.   0.]\n",
      " [  0.   0.   0.   0.   8.   0.   0.   8.   0.   0.]]\n"
     ]
    }
   ],
   "source": [
    "vertex = pd.read_csv('Larger/vertex.csv')\n",
    "SMRnode,PArray = SNAP(vertex,AdjMatrix,attr)"
   ]
  },
  {
   "cell_type": "code",
   "execution_count": 194,
   "metadata": {
    "collapsed": false
   },
   "outputs": [
    {
     "name": "stdout",
     "output_type": "stream",
     "text": [
      "0.0\n"
     ]
    },
    {
     "data": {
      "text/plain": [
       "'OutputLarger/summary_Graph.pdf'"
      ]
     },
     "execution_count": 194,
     "metadata": {},
     "output_type": "execute_result"
    }
   ],
   "source": [
    "dot1 = Digraph(comment='Summary Graph')\n",
    "#vertex = np.asarray(vertex)\n",
    "#edge = np.asarray(edge)\n",
    "#for i in range(len(vertex)):\n",
    "#    dot.node(str(vertex[i][2]),str(vertex[i][0]))\n",
    "#for j in range(len(edge)):\n",
    "#    dot.edge(str(edge[j][3]),str(edge[j][4]))\n",
    "    \n",
    "print AdjMatrix[SMRnode[1][0][0],SMRnode[1][0][0]]\n",
    "\n",
    "for i in range(len(SMRnode)):\n",
    "    if(i==0):\n",
    "        color = 'red'\n",
    "    if(i==1):\n",
    "        color = 'blue'\n",
    "    if(i==2):\n",
    "        color = 'green'\n",
    "    if(i==3):\n",
    "        color = 'yellow'\n",
    "    if(i==4):\n",
    "        color = 'cyan'\n",
    "    if(i==5):\n",
    "        color = 'magenta'\n",
    "    if(i==6):\n",
    "        color = 'Purple'\n",
    "    if(i==7):\n",
    "        color = 'grey'\n",
    "    if(i==8):\n",
    "        color = 'tan'\n",
    "    if(i==9):\n",
    "        color = 'SeaGreen'\n",
    "    if(i==10):\n",
    "        color = 'chocolate'\n",
    "    if(i==11):\n",
    "        color = 'salmon'\n",
    "    if(i==12):\n",
    "        color = 'YellowGreen'\n",
    "    if(i==13):\n",
    "        color = 'Lavender'\n",
    "    if(i==14):\n",
    "        color = 'Olive'\n",
    "    if(i==15):\n",
    "        color = 'Orange'\n",
    "    if(i==16):\n",
    "        color = 'Violet'\n",
    "    if(i==17):\n",
    "        color = 'PeachPuff'\n",
    "          \n",
    "    dot1.node(str(SMRnode[i][0]),str(SMRnode[i][0]),color = color,style='filled')\n",
    "    for j in range(len(SMRnode)):\n",
    "        if(i!=j):\n",
    "            if(PArray[i][j]!=0):\n",
    "                for k in range(int(PArray[i][j])):\n",
    "                    dot1.edge(str(SMRnode[i][0]),str(SMRnode[j][0]))\n",
    "\n",
    "dot1.render('OutputLarger/summary_Graph')"
   ]
  },
  {
   "cell_type": "code",
   "execution_count": 195,
   "metadata": {
    "collapsed": false
   },
   "outputs": [
    {
     "data": {
      "text/plain": [
       "'OutputLarger/ColorGrap.pdf'"
      ]
     },
     "execution_count": 195,
     "metadata": {},
     "output_type": "execute_result"
    }
   ],
   "source": [
    "dot2 = Digraph(comment='ColorGraph')\n",
    "vertex = pd.read_csv('Larger/vertex.csv')\n",
    "vertex['index']= vertex.index\n",
    "#vertex = np.asarray(vertex)\n",
    "edge = np.asarray(edge)\n",
    "for i in range(len(SMRnode)):\n",
    "    if(i==0):\n",
    "        color = 'red'\n",
    "    if(i==1):\n",
    "        color = 'blue'\n",
    "    if(i==2):\n",
    "        color = 'green'\n",
    "    if(i==3):\n",
    "        color = 'yellow'\n",
    "    if(i==4):\n",
    "        color = 'cyan'\n",
    "    if(i==5):\n",
    "        color = 'magenta'\n",
    "    if(i==6):\n",
    "        color = 'Purple'\n",
    "    if(i==7):\n",
    "        color = 'grey'\n",
    "    if(i==8):\n",
    "        color = 'tan'\n",
    "    if(i==9):\n",
    "        color = 'SeaGreen'\n",
    "    if(i==10):\n",
    "        color = 'chocolate'\n",
    "    if(i==11):\n",
    "        color = 'salmon'\n",
    "    if(i==12):\n",
    "        color = 'YellowGreen'\n",
    "    if(i==13):\n",
    "        color = 'Lavender'\n",
    "    if(i==14):\n",
    "        color = 'Olive'\n",
    "    if(i==15):\n",
    "        color = 'Orange'\n",
    "    if(i==16):\n",
    "        color = 'Violet'\n",
    "    if(i==17):\n",
    "        color = 'PeachPuff'\n",
    "        \n",
    "        \n",
    "    for j in range(len(SMRnode[i])):\n",
    "        #print SMRnode[i][j]\n",
    "        if(SMRnode[i][j][1]=='App'):\n",
    "            vertexid = vertex.iloc[SMRnode[i][j][0]]['index']\n",
    "            dot2.node(str(vertexid),str(SMRnode[i][j]) ,color = color,style='filled')\n",
    "        if(SMRnode[i][j][1]=='File'):\n",
    "            fileid = vertex.iloc[SMRnode[i][j][0]]['index']\n",
    "            dot2.node(str(fileid),str(SMRnode[i][j]) ,color = color,style='filled')\n",
    "for j in range(len(edge)):\n",
    "    if(edge[j][2]==1):\n",
    "        startid = vertex[vertex['app_exec_id']==str(edge[j][0])].index.values[0]\n",
    "        endid = vertex[vertex['file_id']==str(edge[j][1])].index.values[0]\n",
    "        dot2.edge(str(startid),str(endid))            \n",
    "    else:\n",
    "        startid = vertex[vertex['file_id']==str(edge[j][1])].index.values[0]\n",
    "        endid = vertex[vertex['app_exec_id']==str(edge[j][0])].index.values[0]\n",
    "        dot2.edge(str(startid),str(endid))\n",
    "dot2.render('OutputLarger/ColorGrap')"
   ]
  },
  {
   "cell_type": "code",
   "execution_count": null,
   "metadata": {
    "collapsed": true
   },
   "outputs": [],
   "source": []
  }
 ],
 "metadata": {
  "kernelspec": {
   "display_name": "Python 2",
   "language": "python",
   "name": "python2"
  },
  "language_info": {
   "codemirror_mode": {
    "name": "ipython",
    "version": 2
   },
   "file_extension": ".py",
   "mimetype": "text/x-python",
   "name": "python",
   "nbconvert_exporter": "python",
   "pygments_lexer": "ipython2",
   "version": "2.7.6"
  }
 },
 "nbformat": 4,
 "nbformat_minor": 0
}
